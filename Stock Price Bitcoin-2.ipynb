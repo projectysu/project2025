{
 "cells": [
  {
   "cell_type": "code",
   "execution_count": 42,
   "id": "05201747-dc3b-428d-8f9c-2b851a0261f4",
   "metadata": {},
   "outputs": [
    {
     "name": "stdout",
     "output_type": "stream",
     "text": [
      "Requirement already satisfied: yfinance in /opt/anaconda3/lib/python3.12/site-packages (0.2.50)\n",
      "Requirement already satisfied: pandas>=1.3.0 in /opt/anaconda3/lib/python3.12/site-packages (from yfinance) (2.2.3)\n",
      "Requirement already satisfied: numpy>=1.16.5 in /opt/anaconda3/lib/python3.12/site-packages (from yfinance) (1.26.4)\n",
      "Requirement already satisfied: requests>=2.31 in /opt/anaconda3/lib/python3.12/site-packages (from yfinance) (2.32.3)\n",
      "Requirement already satisfied: multitasking>=0.0.7 in /opt/anaconda3/lib/python3.12/site-packages (from yfinance) (0.0.11)\n",
      "Requirement already satisfied: lxml>=4.9.1 in /opt/anaconda3/lib/python3.12/site-packages (from yfinance) (5.2.1)\n",
      "Requirement already satisfied: platformdirs>=2.0.0 in /opt/anaconda3/lib/python3.12/site-packages (from yfinance) (3.10.0)\n",
      "Requirement already satisfied: pytz>=2022.5 in /opt/anaconda3/lib/python3.12/site-packages (from yfinance) (2024.1)\n",
      "Requirement already satisfied: frozendict>=2.3.4 in /opt/anaconda3/lib/python3.12/site-packages (from yfinance) (2.4.2)\n",
      "Requirement already satisfied: peewee>=3.16.2 in /opt/anaconda3/lib/python3.12/site-packages (from yfinance) (3.17.8)\n",
      "Requirement already satisfied: beautifulsoup4>=4.11.1 in /opt/anaconda3/lib/python3.12/site-packages (from yfinance) (4.12.3)\n",
      "Requirement already satisfied: html5lib>=1.1 in /opt/anaconda3/lib/python3.12/site-packages (from yfinance) (1.1)\n",
      "Requirement already satisfied: soupsieve>1.2 in /opt/anaconda3/lib/python3.12/site-packages (from beautifulsoup4>=4.11.1->yfinance) (2.5)\n",
      "Requirement already satisfied: six>=1.9 in /opt/anaconda3/lib/python3.12/site-packages (from html5lib>=1.1->yfinance) (1.16.0)\n",
      "Requirement already satisfied: webencodings in /opt/anaconda3/lib/python3.12/site-packages (from html5lib>=1.1->yfinance) (0.5.1)\n",
      "Requirement already satisfied: python-dateutil>=2.8.2 in /opt/anaconda3/lib/python3.12/site-packages (from pandas>=1.3.0->yfinance) (2.9.0.post0)\n",
      "Requirement already satisfied: tzdata>=2022.7 in /opt/anaconda3/lib/python3.12/site-packages (from pandas>=1.3.0->yfinance) (2023.3)\n",
      "Requirement already satisfied: charset-normalizer<4,>=2 in /opt/anaconda3/lib/python3.12/site-packages (from requests>=2.31->yfinance) (3.3.2)\n",
      "Requirement already satisfied: idna<4,>=2.5 in /opt/anaconda3/lib/python3.12/site-packages (from requests>=2.31->yfinance) (3.7)\n",
      "Requirement already satisfied: urllib3<3,>=1.21.1 in /opt/anaconda3/lib/python3.12/site-packages (from requests>=2.31->yfinance) (2.2.3)\n",
      "Requirement already satisfied: certifi>=2017.4.17 in /opt/anaconda3/lib/python3.12/site-packages (from requests>=2.31->yfinance) (2024.8.30)\n",
      "Note: you may need to restart the kernel to use updated packages.\n"
     ]
    }
   ],
   "source": [
    "pip install yfinance"
   ]
  },
  {
   "cell_type": "code",
   "execution_count": 35,
   "id": "3f7afab5-ddf3-4b14-9c1b-6fb99f200f43",
   "metadata": {},
   "outputs": [
    {
     "name": "stdout",
     "output_type": "stream",
     "text": [
      "Requirement already satisfied: plotly in /opt/anaconda3/lib/python3.12/site-packages (5.24.1)\n",
      "Requirement already satisfied: tenacity>=6.2.0 in /opt/anaconda3/lib/python3.12/site-packages (from plotly) (8.2.3)\n",
      "Requirement already satisfied: packaging in /opt/anaconda3/lib/python3.12/site-packages (from plotly) (24.1)\n",
      "Note: you may need to restart the kernel to use updated packages.\n"
     ]
    }
   ],
   "source": [
    "pip install plotly"
   ]
  },
  {
   "cell_type": "code",
   "execution_count": 1,
   "id": "cf4eb890-4439-4d79-b283-17f375487425",
   "metadata": {},
   "outputs": [],
   "source": [
    "import yfinance as yf\n",
    "import pandas as pd\n",
    "import numpy as np\n",
    "import matplotlib.pyplot as plt\n",
    "import plotly.graph_objects as go \n"
   ]
  },
  {
   "cell_type": "code",
   "execution_count": 3,
   "id": "6ec31a15-031d-44bf-90b4-0b8c68ffa83b",
   "metadata": {},
   "outputs": [
    {
     "name": "stderr",
     "output_type": "stream",
     "text": [
      "[*********************100%***********************]  1 of 1 completed\n"
     ]
    }
   ],
   "source": [
    "df = yf.download('BTC', start = '2014-11-1', end = '2024-12-1')\n",
    "df.dropna()\n",
    "df[\"10SMA\"] = df[\"Adj Close\"].rolling(10).mean()\n",
    "df[\"20SMA\"] = df[\"Adj Close\"].rolling(20).mean()"
   ]
  },
  {
   "cell_type": "code",
   "execution_count": 5,
   "id": "20b43c19-1379-4740-a8cd-af4e9b23bfdb",
   "metadata": {},
   "outputs": [
    {
     "data": {
      "text/html": [
       "<div>\n",
       "<style scoped>\n",
       "    .dataframe tbody tr th:only-of-type {\n",
       "        vertical-align: middle;\n",
       "    }\n",
       "\n",
       "    .dataframe tbody tr th {\n",
       "        vertical-align: top;\n",
       "    }\n",
       "\n",
       "    .dataframe thead tr th {\n",
       "        text-align: left;\n",
       "    }\n",
       "\n",
       "    .dataframe thead tr:last-of-type th {\n",
       "        text-align: right;\n",
       "    }\n",
       "</style>\n",
       "<table border=\"1\" class=\"dataframe\">\n",
       "  <thead>\n",
       "    <tr>\n",
       "      <th>Price</th>\n",
       "      <th>Adj Close</th>\n",
       "      <th>Close</th>\n",
       "      <th>High</th>\n",
       "      <th>Low</th>\n",
       "      <th>Open</th>\n",
       "      <th>Volume</th>\n",
       "      <th>10SMA</th>\n",
       "      <th>20SMA</th>\n",
       "    </tr>\n",
       "    <tr>\n",
       "      <th>Ticker</th>\n",
       "      <th>BTC</th>\n",
       "      <th>BTC</th>\n",
       "      <th>BTC</th>\n",
       "      <th>BTC</th>\n",
       "      <th>BTC</th>\n",
       "      <th>BTC</th>\n",
       "      <th></th>\n",
       "      <th></th>\n",
       "    </tr>\n",
       "    <tr>\n",
       "      <th>Date</th>\n",
       "      <th></th>\n",
       "      <th></th>\n",
       "      <th></th>\n",
       "      <th></th>\n",
       "      <th></th>\n",
       "      <th></th>\n",
       "      <th></th>\n",
       "      <th></th>\n",
       "    </tr>\n",
       "  </thead>\n",
       "  <tbody>\n",
       "    <tr>\n",
       "      <th>2024-11-22</th>\n",
       "      <td>44.049999</td>\n",
       "      <td>44.049999</td>\n",
       "      <td>44.290001</td>\n",
       "      <td>43.119999</td>\n",
       "      <td>43.340000</td>\n",
       "      <td>2335300</td>\n",
       "      <td>40.898999</td>\n",
       "      <td>36.4045</td>\n",
       "    </tr>\n",
       "    <tr>\n",
       "      <th>2024-11-25</th>\n",
       "      <td>42.160000</td>\n",
       "      <td>42.160000</td>\n",
       "      <td>43.220001</td>\n",
       "      <td>41.841000</td>\n",
       "      <td>43.169998</td>\n",
       "      <td>2153200</td>\n",
       "      <td>41.249999</td>\n",
       "      <td>36.9700</td>\n",
       "    </tr>\n",
       "    <tr>\n",
       "      <th>2024-11-26</th>\n",
       "      <td>40.320000</td>\n",
       "      <td>40.320000</td>\n",
       "      <td>42.029999</td>\n",
       "      <td>40.200001</td>\n",
       "      <td>40.869999</td>\n",
       "      <td>1696900</td>\n",
       "      <td>41.301999</td>\n",
       "      <td>37.3760</td>\n",
       "    </tr>\n",
       "    <tr>\n",
       "      <th>2024-11-27</th>\n",
       "      <td>42.930000</td>\n",
       "      <td>42.930000</td>\n",
       "      <td>43.220001</td>\n",
       "      <td>41.799999</td>\n",
       "      <td>41.930000</td>\n",
       "      <td>1417600</td>\n",
       "      <td>41.609999</td>\n",
       "      <td>37.9300</td>\n",
       "    </tr>\n",
       "    <tr>\n",
       "      <th>2024-11-29</th>\n",
       "      <td>43.090000</td>\n",
       "      <td>43.090000</td>\n",
       "      <td>43.900002</td>\n",
       "      <td>43.060001</td>\n",
       "      <td>43.220001</td>\n",
       "      <td>927600</td>\n",
       "      <td>42.034000</td>\n",
       "      <td>38.5320</td>\n",
       "    </tr>\n",
       "  </tbody>\n",
       "</table>\n",
       "</div>"
      ],
      "text/plain": [
       "Price       Adj Close      Close       High        Low       Open   Volume  \\\n",
       "Ticker            BTC        BTC        BTC        BTC        BTC      BTC   \n",
       "Date                                                                         \n",
       "2024-11-22  44.049999  44.049999  44.290001  43.119999  43.340000  2335300   \n",
       "2024-11-25  42.160000  42.160000  43.220001  41.841000  43.169998  2153200   \n",
       "2024-11-26  40.320000  40.320000  42.029999  40.200001  40.869999  1696900   \n",
       "2024-11-27  42.930000  42.930000  43.220001  41.799999  41.930000  1417600   \n",
       "2024-11-29  43.090000  43.090000  43.900002  43.060001  43.220001   927600   \n",
       "\n",
       "Price           10SMA    20SMA  \n",
       "Ticker                          \n",
       "Date                            \n",
       "2024-11-22  40.898999  36.4045  \n",
       "2024-11-25  41.249999  36.9700  \n",
       "2024-11-26  41.301999  37.3760  \n",
       "2024-11-27  41.609999  37.9300  \n",
       "2024-11-29  42.034000  38.5320  "
      ]
     },
     "execution_count": 5,
     "metadata": {},
     "output_type": "execute_result"
    }
   ],
   "source": [
    "df.tail()"
   ]
  },
  {
   "cell_type": "code",
   "execution_count": 7,
   "id": "662f60ce-f3d9-4905-bbb4-bb94c429a6ea",
   "metadata": {},
   "outputs": [
    {
     "data": {
      "image/png": "[encoded data removed]",
      "text/plain": [
       "<Figure size 640x480 with 1 Axes>"
      ]
     },
     "metadata": {},
     "output_type": "display_data"
    }
   ],
   "source": [
    "# Create the plot\n",
    "df[[\"Adj Close\", \"10SMA\", \"20SMA\"]].plot(label=(\"Adj Close\", \"10SMA\", \"20SMA\"))\n",
    "plt.title(\"Bitcoin Price Trends\")\n",
    "plt.ylabel(\"Price (USD)\")\n",
    "plt.legend()\n",
    "plt.show()\n",
    "\n"
   ]
  },
  {
   "cell_type": "code",
   "execution_count": 9,
   "id": "13a3af89-048d-45b3-b0f9-9ae7d52a57bc",
   "metadata": {},
   "outputs": [
    {
     "data": {
      "text/html": [
       "<div>\n",
       "<style scoped>\n",
       "    .dataframe tbody tr th:only-of-type {\n",
       "        vertical-align: middle;\n",
       "    }\n",
       "\n",
       "    .dataframe tbody tr th {\n",
       "        vertical-align: top;\n",
       "    }\n",
       "\n",
       "    .dataframe thead tr th {\n",
       "        text-align: left;\n",
       "    }\n",
       "\n",
       "    .dataframe thead tr:last-of-type th {\n",
       "        text-align: right;\n",
       "    }\n",
       "</style>\n",
       "<table border=\"1\" class=\"dataframe\">\n",
       "  <thead>\n",
       "    <tr>\n",
       "      <th>Price</th>\n",
       "      <th>Adj Close</th>\n",
       "      <th>Close</th>\n",
       "      <th>High</th>\n",
       "      <th>Low</th>\n",
       "      <th>Open</th>\n",
       "      <th>Volume</th>\n",
       "      <th>10SMA</th>\n",
       "      <th>20SMA</th>\n",
       "    </tr>\n",
       "    <tr>\n",
       "      <th>Ticker</th>\n",
       "      <th>BTC</th>\n",
       "      <th>BTC</th>\n",
       "      <th>BTC</th>\n",
       "      <th>BTC</th>\n",
       "      <th>BTC</th>\n",
       "      <th>BTC</th>\n",
       "      <th></th>\n",
       "      <th></th>\n",
       "    </tr>\n",
       "    <tr>\n",
       "      <th>Date</th>\n",
       "      <th></th>\n",
       "      <th></th>\n",
       "      <th></th>\n",
       "      <th></th>\n",
       "      <th></th>\n",
       "      <th></th>\n",
       "      <th></th>\n",
       "      <th></th>\n",
       "    </tr>\n",
       "  </thead>\n",
       "  <tbody>\n",
       "    <tr>\n",
       "      <th>2024-11-22</th>\n",
       "      <td>44.049999</td>\n",
       "      <td>44.049999</td>\n",
       "      <td>44.290001</td>\n",
       "      <td>43.119999</td>\n",
       "      <td>43.340000</td>\n",
       "      <td>2335300</td>\n",
       "      <td>40.898999</td>\n",
       "      <td>36.4045</td>\n",
       "    </tr>\n",
       "    <tr>\n",
       "      <th>2024-11-25</th>\n",
       "      <td>42.160000</td>\n",
       "      <td>42.160000</td>\n",
       "      <td>43.220001</td>\n",
       "      <td>41.841000</td>\n",
       "      <td>43.169998</td>\n",
       "      <td>2153200</td>\n",
       "      <td>41.249999</td>\n",
       "      <td>36.9700</td>\n",
       "    </tr>\n",
       "    <tr>\n",
       "      <th>2024-11-26</th>\n",
       "      <td>40.320000</td>\n",
       "      <td>40.320000</td>\n",
       "      <td>42.029999</td>\n",
       "      <td>40.200001</td>\n",
       "      <td>40.869999</td>\n",
       "      <td>1696900</td>\n",
       "      <td>41.301999</td>\n",
       "      <td>37.3760</td>\n",
       "    </tr>\n",
       "    <tr>\n",
       "      <th>2024-11-27</th>\n",
       "      <td>42.930000</td>\n",
       "      <td>42.930000</td>\n",
       "      <td>43.220001</td>\n",
       "      <td>41.799999</td>\n",
       "      <td>41.930000</td>\n",
       "      <td>1417600</td>\n",
       "      <td>41.609999</td>\n",
       "      <td>37.9300</td>\n",
       "    </tr>\n",
       "    <tr>\n",
       "      <th>2024-11-29</th>\n",
       "      <td>43.090000</td>\n",
       "      <td>43.090000</td>\n",
       "      <td>43.900002</td>\n",
       "      <td>43.060001</td>\n",
       "      <td>43.220001</td>\n",
       "      <td>927600</td>\n",
       "      <td>42.034000</td>\n",
       "      <td>38.5320</td>\n",
       "    </tr>\n",
       "  </tbody>\n",
       "</table>\n",
       "</div>"
      ],
      "text/plain": [
       "Price       Adj Close      Close       High        Low       Open   Volume  \\\n",
       "Ticker            BTC        BTC        BTC        BTC        BTC      BTC   \n",
       "Date                                                                         \n",
       "2024-11-22  44.049999  44.049999  44.290001  43.119999  43.340000  2335300   \n",
       "2024-11-25  42.160000  42.160000  43.220001  41.841000  43.169998  2153200   \n",
       "2024-11-26  40.320000  40.320000  42.029999  40.200001  40.869999  1696900   \n",
       "2024-11-27  42.930000  42.930000  43.220001  41.799999  41.930000  1417600   \n",
       "2024-11-29  43.090000  43.090000  43.900002  43.060001  43.220001   927600   \n",
       "\n",
       "Price           10SMA    20SMA  \n",
       "Ticker                          \n",
       "Date                            \n",
       "2024-11-22  40.898999  36.4045  \n",
       "2024-11-25  41.249999  36.9700  \n",
       "2024-11-26  41.301999  37.3760  \n",
       "2024-11-27  41.609999  37.9300  \n",
       "2024-11-29  42.034000  38.5320  "
      ]
     },
     "execution_count": 9,
     "metadata": {},
     "output_type": "execute_result"
    }
   ],
   "source": [
    "df.tail()"
   ]
  },
  {
   "cell_type": "code",
   "execution_count": 45,
   "id": "d9f40ccf-c987-4b6f-9217-0ecaa29f0797",
   "metadata": {},
   "outputs": [
    {
     "data": {
      "application/vnd.plotly.v1+json": {
       "config": {
        "plotlyServerURL": "https://plot.ly"
       },
       "data": [
        {
         "close": [
          [
           28.950000762939453
          ],
          [
           28.100000381469727
          ],
          [
           27.799999237060547
          ],
          [
           23.75
          ],
          [
           25.25
          ],
          [
           24.299999237060547
          ],
          [
           26.350000381469727
          ],
          [
           26.899999618530273
          ],
          [
           26.200000762939453
          ],
          [
           27.049999237060547
          ],
          [
           26.100000381469727
          ],
          [
           25.350000381469727
          ],
          [
           26.450000762939453
          ],
          [
           26.200000762939453
          ],
          [
           26.399999618530273
          ],
          [
           27.350000381469727
          ],
          [
           26.700000762939453
          ],
          [
           28.25
          ],
          [
           28.049999237060547
          ],
          [
           27.549999237060547
          ],
          [
           26.149999618530273
          ],
          [
           26.25
          ],
          [
           26
          ],
          [
           25.75
          ],
          [
           25.75
          ],
          [
           24.850000381469727
          ],
          [
           23.75
          ],
          [
           25.350000381469727
          ],
          [
           25.700000762939453
          ],
          [
           25.549999237060547
          ],
          [
           25.850000381469727
          ],
          [
           26.5
          ],
          [
           25.700000762939453
          ],
          [
           26.600000381469727
          ],
          [
           26.649999618530273
          ],
          [
           28.049999237060547
          ],
          [
           27.899999618530273
          ],
          [
           28.049999237060547
          ],
          [
           28.549999237060547
          ],
          [
           28
          ],
          [
           28.700000762939453
          ],
          [
           29.100000381469727
          ],
          [
           28.149999618530273
          ],
          [
           27.399999618530273
          ],
          [
           26.700000762939453
          ],
          [
           27.049999237060547
          ],
          [
           27.700000762939453
          ],
          [
           28.100000381469727
          ],
          [
           27.600000381469727
          ],
          [
           27
          ],
          [
           26.450000762939453
          ],
          [
           28.049999237060547
          ],
          [
           29.25
          ],
          [
           29.700000762939453
          ],
          [
           30.049999237060547
          ],
          [
           29.600000381469727
          ],
          [
           30.399999618530273
          ],
          [
           30.049999237060547
          ],
          [
           29.899999618530273
          ],
          [
           29.399999618530273
          ],
          [
           30.299999237060547
          ],
          [
           29.600000381469727
          ],
          [
           30.850000381469727
          ],
          [
           32.20000076293945
          ],
          [
           31.850000381469727
          ],
          [
           31.049999237060547
          ],
          [
           30.700000762939453
          ],
          [
           29.850000381469727
          ],
          [
           30.799999237060547
          ],
          [
           33.79999923706055
          ],
          [
           34
          ],
          [
           34
          ],
          [
           38.650001525878906
          ],
          [
           39.79999923706055
          ],
          [
           39.849998474121094
          ],
          [
           38.849998474121094
          ],
          [
           40.599998474121094
          ],
          [
           40.650001525878906
          ],
          [
           41.099998474121094
          ],
          [
           41.84000015258789
          ],
          [
           43.599998474121094
          ],
          [
           44.04999923706055
          ],
          [
           42.15999984741211
          ],
          [
           40.31999969482422
          ],
          [
           42.93000030517578
          ],
          [
           43.09000015258789
          ]
         ],
         "high": [
          [
           29.649999618530273
          ],
          [
           28.799999237060547
          ],
          [
           29.049999237060547
          ],
          [
           24.649999618530273
          ],
          [
           25.350000381469727
          ],
          [
           25.549999237060547
          ],
          [
           26.575000762939453
          ],
          [
           27.125
          ],
          [
           26.924999237060547
          ],
          [
           27.325000762939453
          ],
          [
           27.049999237060547
          ],
          [
           26.549999237060547
          ],
          [
           26.600000381469727
          ],
          [
           26.299999237060547
          ],
          [
           27.049999237060547
          ],
          [
           27.350000381469727
          ],
          [
           27.030000686645508
          ],
          [
           28.350000381469727
          ],
          [
           28.350000381469727
          ],
          [
           27.75
          ],
          [
           26.625
          ],
          [
           27.139999389648438
          ],
          [
           26.530000686645508
          ],
          [
           26.25
          ],
          [
           25.950000762939453
          ],
          [
           25.399999618530273
          ],
          [
           25.200000762939453
          ],
          [
           25.375
          ],
          [
           25.75
          ],
          [
           25.75
          ],
          [
           25.975000381469727
          ],
          [
           26.649999618530273
          ],
          [
           26
          ],
          [
           27.225000381469727
          ],
          [
           27.239999771118164
          ],
          [
           28.350000381469727
          ],
          [
           28.190000534057617
          ],
          [
           28.299999237060547
          ],
          [
           28.549999237060547
          ],
          [
           28.399999618530273
          ],
          [
           29.225000381469727
          ],
          [
           29.549999237060547
          ],
          [
           28.450000762939453
          ],
          [
           28.149999618530273
          ],
          [
           27.649999618530273
          ],
          [
           27.100000381469727
          ],
          [
           27.75
          ],
          [
           28.600000381469727
          ],
          [
           28.049999237060547
          ],
          [
           27.649999618530273
          ],
          [
           27.049999237060547
          ],
          [
           28.149999618530273
          ],
          [
           29.450000762939453
          ],
          [
           30.18000030517578
          ],
          [
           30.350000381469727
          ],
          [
           30.040000915527344
          ],
          [
           30.649999618530273
          ],
          [
           30.149999618530273
          ],
          [
           30
          ],
          [
           29.649999618530273
          ],
          [
           30.299999237060547
          ],
          [
           30.549999237060547
          ],
          [
           31
          ],
          [
           32.69499969482422
          ],
          [
           32.150001525878906
          ],
          [
           31.950000762939453
          ],
          [
           31.760000228881836
          ],
          [
           30.5
          ],
          [
           31.280000686645508
          ],
          [
           33.95000076293945
          ],
          [
           34.150001525878906
          ],
          [
           34.349998474121094
          ],
          [
           38.849998474121094
          ],
          [
           39.95000076293945
          ],
          [
           41.5
          ],
          [
           40.75
          ],
          [
           40.650001525878906
          ],
          [
           41.099998474121094
          ],
          [
           41.75
          ],
          [
           42.13999938964844
          ],
          [
           43.97999954223633
          ],
          [
           44.290000915527344
          ],
          [
           43.220001220703125
          ],
          [
           42.029998779296875
          ],
          [
           43.220001220703125
          ],
          [
           43.900001525878906
          ]
         ],
         "low": [
          [
           28.799999237060547
          ],
          [
           27.600000381469727
          ],
          [
           27.649999618530273
          ],
          [
           22
          ],
          [
           24.149999618530273
          ],
          [
           24.25
          ],
          [
           25.200000762939453
          ],
          [
           26.440000534057617
          ],
          [
           25.649999618530273
          ],
          [
           26.100000381469727
          ],
          [
           26.030000686645508
          ],
          [
           25.149999618530273
          ],
          [
           25.600000381469727
          ],
          [
           25.75
          ],
          [
           25.975000381469727
          ],
          [
           26.1200008392334
          ],
          [
           26.649999618530273
          ],
          [
           26.975000381469727
          ],
          [
           27.950000762939453
          ],
          [
           27.25
          ],
          [
           25.649999618530273
          ],
          [
           26.1200008392334
          ],
          [
           25.600000381469727
          ],
          [
           25.5
          ],
          [
           24.8700008392334
          ],
          [
           24.700000762939453
          ],
          [
           23.600000381469727
          ],
          [
           24.274999618530273
          ],
          [
           25.049999237060547
          ],
          [
           24.610000610351562
          ],
          [
           25.399999618530273
          ],
          [
           25.549999237060547
          ],
          [
           25.5
          ],
          [
           26.100000381469727
          ],
          [
           26.225000381469727
          ],
          [
           27.799999237060547
          ],
          [
           27.649999618530273
          ],
          [
           27.959999084472656
          ],
          [
           27.799999237060547
          ],
          [
           27.899999618530273
          ],
          [
           28.450000762939453
          ],
          [
           29
          ],
          [
           27.899999618530273
          ],
          [
           27.049999237060547
          ],
          [
           26.600000381469727
          ],
          [
           26.549999237060547
          ],
          [
           26.950000762939453
          ],
          [
           27.825000762939453
          ],
          [
           27.399999618530273
          ],
          [
           26.924999237060547
          ],
          [
           26.100000381469727
          ],
          [
           27.200000762939453
          ],
          [
           28.649999618530273
          ],
          [
           28.75
          ],
          [
           29.774999618530273
          ],
          [
           29.549999237060547
          ],
          [
           30.024999618530273
          ],
          [
           29.600000381469727
          ],
          [
           29.5
          ],
          [
           28.8700008392334
          ],
          [
           29.81999969482422
          ],
          [
           29.200000762939453
          ],
          [
           30.34000015258789
          ],
          [
           31.450000762939453
          ],
          [
           31.65999984741211
          ],
          [
           30.950000762939453
          ],
          [
           30.459999084472656
          ],
          [
           29.774999618530273
          ],
          [
           30.475000381469727
          ],
          [
           32.599998474121094
          ],
          [
           33.04999923706055
          ],
          [
           33.54999923706055
          ],
          [
           36.20000076293945
          ],
          [
           37.79999923706055
          ],
          [
           39.599998474121094
          ],
          [
           38.75
          ],
          [
           38.900001525878906
          ],
          [
           39.775001525878906
          ],
          [
           40.45000076293945
          ],
          [
           41.369998931884766
          ],
          [
           42.400001525878906
          ],
          [
           43.119998931884766
          ],
          [
           41.840999603271484
          ],
          [
           40.20000076293945
          ],
          [
           41.79999923706055
          ],
          [
           43.060001373291016
          ]
         ],
         "name": "BTC-USD",
         "open": [
          [
           29.5
          ],
          [
           28.649999618530273
          ],
          [
           28.75
          ],
          [
           22.049999237060547
          ],
          [
           24.5
          ],
          [
           25.450000762939453
          ],
          [
           25.649999618530273
          ],
          [
           26.850000381469727
          ],
          [
           26.450000762939453
          ],
          [
           26.149999618530273
          ],
          [
           26.950000762939453
          ],
          [
           26.25
          ],
          [
           26
          ],
          [
           26.100000381469727
          ],
          [
           26.850000381469727
          ],
          [
           26.350000381469727
          ],
          [
           27
          ],
          [
           27.149999618530273
          ],
          [
           28.350000381469727
          ],
          [
           27.649999618530273
          ],
          [
           26.600000381469727
          ],
          [
           26.700000762939453
          ],
          [
           26.399999618530273
          ],
          [
           26.200000762939453
          ],
          [
           25.049999237060547
          ],
          [
           25.100000381469727
          ],
          [
           25.100000381469727
          ],
          [
           24.549999237060547
          ],
          [
           25.25
          ],
          [
           25.25
          ],
          [
           25.549999237060547
          ],
          [
           25.600000381469727
          ],
          [
           26
          ],
          [
           26.25
          ],
          [
           26.600000381469727
          ],
          [
           28.049999237060547
          ],
          [
           27.950000762939453
          ],
          [
           28.049999237060547
          ],
          [
           28.100000381469727
          ],
          [
           28.149999618530273
          ],
          [
           28.549999237060547
          ],
          [
           29.100000381469727
          ],
          [
           28.399999618530273
          ],
          [
           28.100000381469727
          ],
          [
           27
          ],
          [
           26.799999237060547
          ],
          [
           27.299999237060547
          ],
          [
           28
          ],
          [
           27.799999237060547
          ],
          [
           27.450000762939453
          ],
          [
           27.049999237060547
          ],
          [
           27.25
          ],
          [
           28.75
          ],
          [
           29.25
          ],
          [
           30.100000381469727
          ],
          [
           29.75
          ],
          [
           30.049999237060547
          ],
          [
           30.100000381469727
          ],
          [
           29.75
          ],
          [
           29.5
          ],
          [
           30
          ],
          [
           30.149999618530273
          ],
          [
           30.600000381469727
          ],
          [
           31.600000381469727
          ],
          [
           31.850000381469727
          ],
          [
           31.950000762939453
          ],
          [
           31.149999618530273
          ],
          [
           30.399999618530273
          ],
          [
           30.75
          ],
          [
           32.95000076293945
          ],
          [
           33.25
          ],
          [
           33.849998474121094
          ],
          [
           36.349998474121094
          ],
          [
           38.20000076293945
          ],
          [
           39.95000076293945
          ],
          [
           40.54999923706055
          ],
          [
           39.650001525878906
          ],
          [
           40.150001525878906
          ],
          [
           40.650001525878906
          ],
          [
           41.970001220703125
          ],
          [
           43.20000076293945
          ],
          [
           43.34000015258789
          ],
          [
           43.16999816894531
          ],
          [
           40.869998931884766
          ],
          [
           41.93000030517578
          ],
          [
           43.220001220703125
          ]
         ],
         "type": "candlestick",
         "x": [
          "2024-07-31T00:00:00",
          "2024-08-01T00:00:00",
          "2024-08-02T00:00:00",
          "2024-08-05T00:00:00",
          "2024-08-06T00:00:00",
          "2024-08-07T00:00:00",
          "2024-08-08T00:00:00",
          "2024-08-09T00:00:00",
          "2024-08-12T00:00:00",
          "2024-08-13T00:00:00",
          "2024-08-14T00:00:00",
          "2024-08-15T00:00:00",
          "2024-08-16T00:00:00",
          "2024-08-19T00:00:00",
          "2024-08-20T00:00:00",
          "2024-08-21T00:00:00",
          "2024-08-22T00:00:00",
          "2024-08-23T00:00:00",
          "2024-08-26T00:00:00",
          "2024-08-27T00:00:00",
          "2024-08-28T00:00:00",
          "2024-08-29T00:00:00",
          "2024-08-30T00:00:00",
          "2024-09-03T00:00:00",
          "2024-09-04T00:00:00",
          "2024-09-05T00:00:00",
          "2024-09-06T00:00:00",
          "2024-09-09T00:00:00",
          "2024-09-10T00:00:00",
          "2024-09-11T00:00:00",
          "2024-09-12T00:00:00",
          "2024-09-13T00:00:00",
          "2024-09-16T00:00:00",
          "2024-09-17T00:00:00",
          "2024-09-18T00:00:00",
          "2024-09-19T00:00:00",
          "2024-09-20T00:00:00",
          "2024-09-23T00:00:00",
          "2024-09-24T00:00:00",
          "2024-09-25T00:00:00",
          "2024-09-26T00:00:00",
          "2024-09-27T00:00:00",
          "2024-09-30T00:00:00",
          "2024-10-01T00:00:00",
          "2024-10-02T00:00:00",
          "2024-10-03T00:00:00",
          "2024-10-04T00:00:00",
          "2024-10-07T00:00:00",
          "2024-10-08T00:00:00",
          "2024-10-09T00:00:00",
          "2024-10-10T00:00:00",
          "2024-10-11T00:00:00",
          "2024-10-14T00:00:00",
          "2024-10-15T00:00:00",
          "2024-10-16T00:00:00",
          "2024-10-17T00:00:00",
          "2024-10-18T00:00:00",
          "2024-10-21T00:00:00",
          "2024-10-22T00:00:00",
          "2024-10-23T00:00:00",
          "2024-10-24T00:00:00",
          "2024-10-25T00:00:00",
          "2024-10-28T00:00:00",
          "2024-10-29T00:00:00",
          "2024-10-30T00:00:00",
          "2024-10-31T00:00:00",
          "2024-11-01T00:00:00",
          "2024-11-04T00:00:00",
          "2024-11-05T00:00:00",
          "2024-11-06T00:00:00",
          "2024-11-07T00:00:00",
          "2024-11-08T00:00:00",
          "2024-11-11T00:00:00",
          "2024-11-12T00:00:00",
          "2024-11-13T00:00:00",
          "2024-11-14T00:00:00",
          "2024-11-15T00:00:00",
          "2024-11-18T00:00:00",
          "2024-11-19T00:00:00",
          "2024-11-20T00:00:00",
          "2024-11-21T00:00:00",
          "2024-11-22T00:00:00",
          "2024-11-25T00:00:00",
          "2024-11-26T00:00:00",
          "2024-11-27T00:00:00",
          "2024-11-29T00:00:00"
         ]
        }
       ],
       "layout": {
        "autosize": true,
        "template": {
         "data": {
          "bar": [
           {
            "error_x": {
             "color": "#2a3f5f"
            },
            "error_y": {
             "color": "#2a3f5f"
            },
            "marker": {
             "line": {
              "color": "#E5ECF6",
              "width": 0.5
             },
             "pattern": {
              "fillmode": "overlay",
              "size": 10,
              "solidity": 0.2
             }
            },
            "type": "bar"
           }
          ],
          "barpolar": [
           {
            "marker": {
             "line": {
              "color": "#E5ECF6",
              "width": 0.5
             },
             "pattern": {
              "fillmode": "overlay",
              "size": 10,
              "solidity": 0.2
             }
            },
            "type": "barpolar"
           }
          ],
          "carpet": [
           {
            "aaxis": {
             "endlinecolor": "#2a3f5f",
             "gridcolor": "white",
             "linecolor": "white",
             "minorgridcolor": "white",
             "startlinecolor": "#2a3f5f"
            },
            "baxis": {
             "endlinecolor": "#2a3f5f",
             "gridcolor": "white",
             "linecolor": "white",
             "minorgridcolor": "white",
             "startlinecolor": "#2a3f5f"
            },
            "type": "carpet"
           }
          ],
          "choropleth": [
           {
            "colorbar": {
             "outlinewidth": 0,
             "ticks": ""
            },
            "type": "choropleth"
           }
          ],
          "contour": [
           {
            "colorbar": {
             "outlinewidth": 0,
             "ticks": ""
            },
            "colorscale": [
             [
              0,
              "#0d0887"
             ],
             [
              0.1111111111111111,
              "#46039f"
             ],
             [
              0.2222222222222222,
              "#7201a8"
             ],
             [
              0.3333333333333333,
              "#9c179e"
             ],
             [
              0.4444444444444444,
              "#bd3786"
             ],
             [
              0.5555555555555556,
              "#d8576b"
             ],
             [
              0.6666666666666666,
              "#ed7953"
             ],
             [
              0.7777777777777778,
              "#fb9f3a"
             ],
             [
              0.8888888888888888,
              "#fdca26"
             ],
             [
              1,
              "#f0f921"
             ]
            ],
            "type": "contour"
           }
          ],
          "contourcarpet": [
           {
            "colorbar": {
             "outlinewidth": 0,
             "ticks": ""
            },
            "type": "contourcarpet"
           }
          ],
          "heatmap": [
           {
            "colorbar": {
             "outlinewidth": 0,
             "ticks": ""
            },
            "colorscale": [
             [
              0,
              "#0d0887"
             ],
             [
              0.1111111111111111,
              "#46039f"
             ],
             [
              0.2222222222222222,
              "#7201a8"
             ],
             [
              0.3333333333333333,
              "#9c179e"
             ],
             [
              0.4444444444444444,
              "#bd3786"
             ],
             [
              0.5555555555555556,
              "#d8576b"
             ],
             [
              0.6666666666666666,
              "#ed7953"
             ],
             [
              0.7777777777777778,
              "#fb9f3a"
             ],
             [
              0.8888888888888888,
              "#fdca26"
             ],
             [
              1,
              "#f0f921"
             ]
            ],
            "type": "heatmap"
           }
          ],
          "heatmapgl": [
           {
            "colorbar": {
             "outlinewidth": 0,
             "ticks": ""
            },
            "colorscale": [
             [
              0,
              "#0d0887"
             ],
             [
              0.1111111111111111,
              "#46039f"
             ],
             [
              0.2222222222222222,
              "#7201a8"
             ],
             [
              0.3333333333333333,
              "#9c179e"
             ],
             [
              0.4444444444444444,
              "#bd3786"
             ],
             [
              0.5555555555555556,
              "#d8576b"
             ],
             [
              0.6666666666666666,
              "#ed7953"
             ],
             [
              0.7777777777777778,
              "#fb9f3a"
             ],
             [
              0.8888888888888888,
              "#fdca26"
             ],
             [
              1,
              "#f0f921"
             ]
            ],
            "type": "heatmapgl"
           }
          ],
          "histogram": [
           {
            "marker": {
             "pattern": {
              "fillmode": "overlay",
              "size": 10,
              "solidity": 0.2
             }
            },
            "type": "histogram"
           }
          ],
          "histogram2d": [
           {
            "colorbar": {
             "outlinewidth": 0,
             "ticks": ""
            },
            "colorscale": [
             [
              0,
              "#0d0887"
             ],
             [
              0.1111111111111111,
              "#46039f"
             ],
             [
              0.2222222222222222,
              "#7201a8"
             ],
             [
              0.3333333333333333,
              "#9c179e"
             ],
             [
              0.4444444444444444,
              "#bd3786"
             ],
             [
              0.5555555555555556,
              "#d8576b"
             ],
             [
              0.6666666666666666,
              "#ed7953"
             ],
             [
              0.7777777777777778,
              "#fb9f3a"
             ],
             [
              0.8888888888888888,
              "#fdca26"
             ],
             [
              1,
              "#f0f921"
             ]
            ],
            "type": "histogram2d"
           }
          ],
          "histogram2dcontour": [
           {
            "colorbar": {
             "outlinewidth": 0,
             "ticks": ""
            },
            "colorscale": [
             [
              0,
              "#0d0887"
             ],
             [
              0.1111111111111111,
              "#46039f"
             ],
             [
              0.2222222222222222,
              "#7201a8"
             ],
             [
              0.3333333333333333,
              "#9c179e"
             ],
             [
              0.4444444444444444,
              "#bd3786"
             ],
             [
              0.5555555555555556,
              "#d8576b"
             ],
             [
              0.6666666666666666,
              "#ed7953"
             ],
             [
              0.7777777777777778,
              "#fb9f3a"
             ],
             [
              0.8888888888888888,
              "#fdca26"
             ],
             [
              1,
              "#f0f921"
             ]
            ],
            "type": "histogram2dcontour"
           }
          ],
          "mesh3d": [
           {
            "colorbar": {
             "outlinewidth": 0,
             "ticks": ""
            },
            "type": "mesh3d"
           }
          ],
          "parcoords": [
           {
            "line": {
             "colorbar": {
              "outlinewidth": 0,
              "ticks": ""
             }
            },
            "type": "parcoords"
           }
          ],
          "pie": [
           {
            "automargin": true,
            "type": "pie"
           }
          ],
          "scatter": [
           {
            "fillpattern": {
             "fillmode": "overlay",
             "size": 10,
             "solidity": 0.2
            },
            "type": "scatter"
           }
          ],
          "scatter3d": [
           {
            "line": {
             "colorbar": {
              "outlinewidth": 0,
              "ticks": ""
             }
            },
            "marker": {
             "colorbar": {
              "outlinewidth": 0,
              "ticks": ""
             }
            },
            "type": "scatter3d"
           }
          ],
          "scattercarpet": [
           {
            "marker": {
             "colorbar": {
              "outlinewidth": 0,
              "ticks": ""
             }
            },
            "type": "scattercarpet"
           }
          ],
          "scattergeo": [
           {
            "marker": {
             "colorbar": {
              "outlinewidth": 0,
              "ticks": ""
             }
            },
            "type": "scattergeo"
           }
          ],
          "scattergl": [
           {
            "marker": {
             "colorbar": {
              "outlinewidth": 0,
              "ticks": ""
             }
            },
            "type": "scattergl"
           }
          ],
          "scattermapbox": [
           {
            "marker": {
             "colorbar": {
              "outlinewidth": 0,
              "ticks": ""
             }
            },
            "type": "scattermapbox"
           }
          ],
          "scatterpolar": [
           {
            "marker": {
             "colorbar": {
              "outlinewidth": 0,
              "ticks": ""
             }
            },
            "type": "scatterpolar"
           }
          ],
          "scatterpolargl": [
           {
            "marker": {
             "colorbar": {
              "outlinewidth": 0,
              "ticks": ""
             }
            },
            "type": "scatterpolargl"
           }
          ],
          "scatterternary": [
           {
            "marker": {
             "colorbar": {
              "outlinewidth": 0,
              "ticks": ""
             }
            },
            "type": "scatterternary"
           }
          ],
          "surface": [
           {
            "colorbar": {
             "outlinewidth": 0,
             "ticks": ""
            },
            "colorscale": [
             [
              0,
              "#0d0887"
             ],
             [
              0.1111111111111111,
              "#46039f"
             ],
             [
              0.2222222222222222,
              "#7201a8"
             ],
             [
              0.3333333333333333,
              "#9c179e"
             ],
             [
              0.4444444444444444,
              "#bd3786"
             ],
             [
              0.5555555555555556,
              "#d8576b"
             ],
             [
              0.6666666666666666,
              "#ed7953"
             ],
             [
              0.7777777777777778,
              "#fb9f3a"
             ],
             [
              0.8888888888888888,
              "#fdca26"
             ],
             [
              1,
              "#f0f921"
             ]
            ],
            "type": "surface"
           }
          ],
          "table": [
           {
            "cells": {
             "fill": {
              "color": "#EBF0F8"
             },
             "line": {
              "color": "white"
             }
            },
            "header": {
             "fill": {
              "color": "#C8D4E3"
             },
             "line": {
              "color": "white"
             }
            },
            "type": "table"
           }
          ]
         },
         "layout": {
          "annotationdefaults": {
           "arrowcolor": "#2a3f5f",
           "arrowhead": 0,
           "arrowwidth": 1
          },
          "autotypenumbers": "strict",
          "coloraxis": {
           "colorbar": {
            "outlinewidth": 0,
            "ticks": ""
           }
          },
          "colorscale": {
           "diverging": [
            [
             0,
             "#8e0152"
            ],
            [
             0.1,
             "#c51b7d"
            ],
            [
             0.2,
             "#de77ae"
            ],
            [
             0.3,
             "#f1b6da"
            ],
            [
             0.4,
             "#fde0ef"
            ],
            [
             0.5,
             "#f7f7f7"
            ],
            [
             0.6,
             "#e6f5d0"
            ],
            [
             0.7,
             "#b8e186"
            ],
            [
             0.8,
             "#7fbc41"
            ],
            [
             0.9,
             "#4d9221"
            ],
            [
             1,
             "#276419"
            ]
           ],
           "sequential": [
            [
             0,
             "#0d0887"
            ],
            [
             0.1111111111111111,
             "#46039f"
            ],
            [
             0.2222222222222222,
             "#7201a8"
            ],
            [
             0.3333333333333333,
             "#9c179e"
            ],
            [
             0.4444444444444444,
             "#bd3786"
            ],
            [
             0.5555555555555556,
             "#d8576b"
            ],
            [
             0.6666666666666666,
             "#ed7953"
            ],
            [
             0.7777777777777778,
             "#fb9f3a"
            ],
            [
             0.8888888888888888,
             "#fdca26"
            ],
            [
             1,
             "#f0f921"
            ]
           ],
           "sequentialminus": [
            [
             0,
             "#0d0887"
            ],
            [
             0.1111111111111111,
             "#46039f"
            ],
            [
             0.2222222222222222,
             "#7201a8"
            ],
            [
             0.3333333333333333,
             "#9c179e"
            ],
            [
             0.4444444444444444,
             "#bd3786"
            ],
            [
             0.5555555555555556,
             "#d8576b"
            ],
            [
             0.6666666666666666,
             "#ed7953"
            ],
            [
             0.7777777777777778,
             "#fb9f3a"
            ],
            [
             0.8888888888888888,
             "#fdca26"
            ],
            [
             1,
             "#f0f921"
            ]
           ]
          },
          "colorway": [
           "#636efa",
           "#EF553B",
           "#00cc96",
           "#ab63fa",
           "#FFA15A",
           "#19d3f3",
           "#FF6692",
           "#B6E880",
           "#FF97FF",
           "#FECB52"
          ],
          "font": {
           "color": "#2a3f5f"
          },
          "geo": {
           "bgcolor": "white",
           "lakecolor": "white",
           "landcolor": "#E5ECF6",
           "showlakes": true,
           "showland": true,
           "subunitcolor": "white"
          },
          "hoverlabel": {
           "align": "left"
          },
          "hovermode": "closest",
          "mapbox": {
           "style": "light"
          },
          "paper_bgcolor": "white",
          "plot_bgcolor": "#E5ECF6",
          "polar": {
           "angularaxis": {
            "gridcolor": "white",
            "linecolor": "white",
            "ticks": ""
           },
           "bgcolor": "#E5ECF6",
           "radialaxis": {
            "gridcolor": "white",
            "linecolor": "white",
            "ticks": ""
           }
          },
          "scene": {
           "xaxis": {
            "backgroundcolor": "#E5ECF6",
            "gridcolor": "white",
            "gridwidth": 2,
            "linecolor": "white",
            "showbackground": true,
            "ticks": "",
            "zerolinecolor": "white"
           },
           "yaxis": {
            "backgroundcolor": "#E5ECF6",
            "gridcolor": "white",
            "gridwidth": 2,
            "linecolor": "white",
            "showbackground": true,
            "ticks": "",
            "zerolinecolor": "white"
           },
           "zaxis": {
            "backgroundcolor": "#E5ECF6",
            "gridcolor": "white",
            "gridwidth": 2,
            "linecolor": "white",
            "showbackground": true,
            "ticks": "",
            "zerolinecolor": "white"
           }
          },
          "shapedefaults": {
           "line": {
            "color": "#2a3f5f"
           }
          },
          "ternary": {
           "aaxis": {
            "gridcolor": "white",
            "linecolor": "white",
            "ticks": ""
           },
           "baxis": {
            "gridcolor": "white",
            "linecolor": "white",
            "ticks": ""
           },
           "bgcolor": "#E5ECF6",
           "caxis": {
            "gridcolor": "white",
            "linecolor": "white",
            "ticks": ""
           }
          },
          "title": {
           "x": 0.05
          },
          "xaxis": {
           "automargin": true,
           "gridcolor": "white",
           "linecolor": "white",
           "ticks": "",
           "title": {
            "standoff": 15
           },
           "zerolinecolor": "white",
           "zerolinewidth": 2
          },
          "yaxis": {
           "automargin": true,
           "gridcolor": "white",
           "linecolor": "white",
           "ticks": "",
           "title": {
            "standoff": 15
           },
           "zerolinecolor": "white",
           "zerolinewidth": 2
          }
         }
        },
        "title": {
         "text": "Candlestick Chart"
        },
        "xaxis": {
         "autorange": false,
         "range": [
          "2024-07-30 12:00",
          "2024-11-29 12:00"
         ],
         "rangeslider": {
          "autorange": true,
          "range": [
           "2024-07-30 12:00",
           "2024-11-29 12:00"
          ],
          "visible": true,
          "yaxis": {
           "_template": null,
           "rangemode": "match"
          }
         },
         "title": {
          "text": "Date"
         },
         "type": "date"
        },
        "yaxis": {
         "range": [
          30,
          50
         ],
         "title": {
          "text": "Price"
         }
        }
       }
      },
      "image/png": "[encoded data removed]",
      "text/html": [
       "<div>                            <div id=\"bca9b206-4826-46af-a4a2-7ec2570de57d\" class=\"plotly-graph-div\" style=\"height:525px; width:100%;\"></div>            <script type=\"text/javascript\">                require([\"plotly\"], function(Plotly) {                    window.PLOTLYENV=window.PLOTLYENV || {};                                    if (document.getElementById(\"bca9b206-4826-46af-a4a2-7ec2570de57d\")) {                    Plotly.newPlot(                        \"bca9b206-4826-46af-a4a2-7ec2570de57d\",                        [{\"close\":[[28.950000762939453],[28.100000381469727],[27.799999237060547],[23.75],[25.25],[24.299999237060547],[26.350000381469727],[26.899999618530273],[26.200000762939453],[27.049999237060547],[26.100000381469727],[25.350000381469727],[26.450000762939453],[26.200000762939453],[26.399999618530273],[27.350000381469727],[26.700000762939453],[28.25],[28.049999237060547],[27.549999237060547],[26.149999618530273],[26.25],[26.0],[25.75],[25.75],[24.850000381469727],[23.75],[25.350000381469727],[25.700000762939453],[25.549999237060547],[25.850000381469727],[26.5],[25.700000762939453],[26.600000381469727],[26.649999618530273],[28.049999237060547],[27.899999618530273],[28.049999237060547],[28.549999237060547],[28.0],[28.700000762939453],[29.100000381469727],[28.149999618530273],[27.399999618530273],[26.700000762939453],[27.049999237060547],[27.700000762939453],[28.100000381469727],[27.600000381469727],[27.0],[26.450000762939453],[28.049999237060547],[29.25],[29.700000762939453],[30.049999237060547],[29.600000381469727],[30.399999618530273],[30.049999237060547],[29.899999618530273],[29.399999618530273],[30.299999237060547],[29.600000381469727],[30.850000381469727],[32.20000076293945],[31.850000381469727],[31.049999237060547],[30.700000762939453],[29.850000381469727],[30.799999237060547],[33.79999923706055],[34.0],[34.0],[38.650001525878906],[39.79999923706055],[39.849998474121094],[38.849998474121094],[40.599998474121094],[40.650001525878906],[41.099998474121094],[41.84000015258789],[43.599998474121094],[44.04999923706055],[42.15999984741211],[40.31999969482422],[42.93000030517578],[43.09000015258789]],\"high\":[[29.649999618530273],[28.799999237060547],[29.049999237060547],[24.649999618530273],[25.350000381469727],[25.549999237060547],[26.575000762939453],[27.125],[26.924999237060547],[27.325000762939453],[27.049999237060547],[26.549999237060547],[26.600000381469727],[26.299999237060547],[27.049999237060547],[27.350000381469727],[27.030000686645508],[28.350000381469727],[28.350000381469727],[27.75],[26.625],[27.139999389648438],[26.530000686645508],[26.25],[25.950000762939453],[25.399999618530273],[25.200000762939453],[25.375],[25.75],[25.75],[25.975000381469727],[26.649999618530273],[26.0],[27.225000381469727],[27.239999771118164],[28.350000381469727],[28.190000534057617],[28.299999237060547],[28.549999237060547],[28.399999618530273],[29.225000381469727],[29.549999237060547],[28.450000762939453],[28.149999618530273],[27.649999618530273],[27.100000381469727],[27.75],[28.600000381469727],[28.049999237060547],[27.649999618530273],[27.049999237060547],[28.149999618530273],[29.450000762939453],[30.18000030517578],[30.350000381469727],[30.040000915527344],[30.649999618530273],[30.149999618530273],[30.0],[29.649999618530273],[30.299999237060547],[30.549999237060547],[31.0],[32.69499969482422],[32.150001525878906],[31.950000762939453],[31.760000228881836],[30.5],[31.280000686645508],[33.95000076293945],[34.150001525878906],[34.349998474121094],[38.849998474121094],[39.95000076293945],[41.5],[40.75],[40.650001525878906],[41.099998474121094],[41.75],[42.13999938964844],[43.97999954223633],[44.290000915527344],[43.220001220703125],[42.029998779296875],[43.220001220703125],[43.900001525878906]],\"low\":[[28.799999237060547],[27.600000381469727],[27.649999618530273],[22.0],[24.149999618530273],[24.25],[25.200000762939453],[26.440000534057617],[25.649999618530273],[26.100000381469727],[26.030000686645508],[25.149999618530273],[25.600000381469727],[25.75],[25.975000381469727],[26.1200008392334],[26.649999618530273],[26.975000381469727],[27.950000762939453],[27.25],[25.649999618530273],[26.1200008392334],[25.600000381469727],[25.5],[24.8700008392334],[24.700000762939453],[23.600000381469727],[24.274999618530273],[25.049999237060547],[24.610000610351562],[25.399999618530273],[25.549999237060547],[25.5],[26.100000381469727],[26.225000381469727],[27.799999237060547],[27.649999618530273],[27.959999084472656],[27.799999237060547],[27.899999618530273],[28.450000762939453],[29.0],[27.899999618530273],[27.049999237060547],[26.600000381469727],[26.549999237060547],[26.950000762939453],[27.825000762939453],[27.399999618530273],[26.924999237060547],[26.100000381469727],[27.200000762939453],[28.649999618530273],[28.75],[29.774999618530273],[29.549999237060547],[30.024999618530273],[29.600000381469727],[29.5],[28.8700008392334],[29.81999969482422],[29.200000762939453],[30.34000015258789],[31.450000762939453],[31.65999984741211],[30.950000762939453],[30.459999084472656],[29.774999618530273],[30.475000381469727],[32.599998474121094],[33.04999923706055],[33.54999923706055],[36.20000076293945],[37.79999923706055],[39.599998474121094],[38.75],[38.900001525878906],[39.775001525878906],[40.45000076293945],[41.369998931884766],[42.400001525878906],[43.119998931884766],[41.840999603271484],[40.20000076293945],[41.79999923706055],[43.060001373291016]],\"name\":\"BTC-USD\",\"open\":[[29.5],[28.649999618530273],[28.75],[22.049999237060547],[24.5],[25.450000762939453],[25.649999618530273],[26.850000381469727],[26.450000762939453],[26.149999618530273],[26.950000762939453],[26.25],[26.0],[26.100000381469727],[26.850000381469727],[26.350000381469727],[27.0],[27.149999618530273],[28.350000381469727],[27.649999618530273],[26.600000381469727],[26.700000762939453],[26.399999618530273],[26.200000762939453],[25.049999237060547],[25.100000381469727],[25.100000381469727],[24.549999237060547],[25.25],[25.25],[25.549999237060547],[25.600000381469727],[26.0],[26.25],[26.600000381469727],[28.049999237060547],[27.950000762939453],[28.049999237060547],[28.100000381469727],[28.149999618530273],[28.549999237060547],[29.100000381469727],[28.399999618530273],[28.100000381469727],[27.0],[26.799999237060547],[27.299999237060547],[28.0],[27.799999237060547],[27.450000762939453],[27.049999237060547],[27.25],[28.75],[29.25],[30.100000381469727],[29.75],[30.049999237060547],[30.100000381469727],[29.75],[29.5],[30.0],[30.149999618530273],[30.600000381469727],[31.600000381469727],[31.850000381469727],[31.950000762939453],[31.149999618530273],[30.399999618530273],[30.75],[32.95000076293945],[33.25],[33.849998474121094],[36.349998474121094],[38.20000076293945],[39.95000076293945],[40.54999923706055],[39.650001525878906],[40.150001525878906],[40.650001525878906],[41.970001220703125],[43.20000076293945],[43.34000015258789],[43.16999816894531],[40.869998931884766],[41.93000030517578],[43.220001220703125]],\"x\":[\"2024-07-31T00:00:00\",\"2024-08-01T00:00:00\",\"2024-08-02T00:00:00\",\"2024-08-05T00:00:00\",\"2024-08-06T00:00:00\",\"2024-08-07T00:00:00\",\"2024-08-08T00:00:00\",\"2024-08-09T00:00:00\",\"2024-08-12T00:00:00\",\"2024-08-13T00:00:00\",\"2024-08-14T00:00:00\",\"2024-08-15T00:00:00\",\"2024-08-16T00:00:00\",\"2024-08-19T00:00:00\",\"2024-08-20T00:00:00\",\"2024-08-21T00:00:00\",\"2024-08-22T00:00:00\",\"2024-08-23T00:00:00\",\"2024-08-26T00:00:00\",\"2024-08-27T00:00:00\",\"2024-08-28T00:00:00\",\"2024-08-29T00:00:00\",\"2024-08-30T00:00:00\",\"2024-09-03T00:00:00\",\"2024-09-04T00:00:00\",\"2024-09-05T00:00:00\",\"2024-09-06T00:00:00\",\"2024-09-09T00:00:00\",\"2024-09-10T00:00:00\",\"2024-09-11T00:00:00\",\"2024-09-12T00:00:00\",\"2024-09-13T00:00:00\",\"2024-09-16T00:00:00\",\"2024-09-17T00:00:00\",\"2024-09-18T00:00:00\",\"2024-09-19T00:00:00\",\"2024-09-20T00:00:00\",\"2024-09-23T00:00:00\",\"2024-09-24T00:00:00\",\"2024-09-25T00:00:00\",\"2024-09-26T00:00:00\",\"2024-09-27T00:00:00\",\"2024-09-30T00:00:00\",\"2024-10-01T00:00:00\",\"2024-10-02T00:00:00\",\"2024-10-03T00:00:00\",\"2024-10-04T00:00:00\",\"2024-10-07T00:00:00\",\"2024-10-08T00:00:00\",\"2024-10-09T00:00:00\",\"2024-10-10T00:00:00\",\"2024-10-11T00:00:00\",\"2024-10-14T00:00:00\",\"2024-10-15T00:00:00\",\"2024-10-16T00:00:00\",\"2024-10-17T00:00:00\",\"2024-10-18T00:00:00\",\"2024-10-21T00:00:00\",\"2024-10-22T00:00:00\",\"2024-10-23T00:00:00\",\"2024-10-24T00:00:00\",\"2024-10-25T00:00:00\",\"2024-10-28T00:00:00\",\"2024-10-29T00:00:00\",\"2024-10-30T00:00:00\",\"2024-10-31T00:00:00\",\"2024-11-01T00:00:00\",\"2024-11-04T00:00:00\",\"2024-11-05T00:00:00\",\"2024-11-06T00:00:00\",\"2024-11-07T00:00:00\",\"2024-11-08T00:00:00\",\"2024-11-11T00:00:00\",\"2024-11-12T00:00:00\",\"2024-11-13T00:00:00\",\"2024-11-14T00:00:00\",\"2024-11-15T00:00:00\",\"2024-11-18T00:00:00\",\"2024-11-19T00:00:00\",\"2024-11-20T00:00:00\",\"2024-11-21T00:00:00\",\"2024-11-22T00:00:00\",\"2024-11-25T00:00:00\",\"2024-11-26T00:00:00\",\"2024-11-27T00:00:00\",\"2024-11-29T00:00:00\"],\"type\":\"candlestick\"}],                        {\"template\":{\"data\":{\"histogram2dcontour\":[{\"type\":\"histogram2dcontour\",\"colorbar\":{\"outlinewidth\":0,\"ticks\":\"\"},\"colorscale\":[[0.0,\"#0d0887\"],[0.1111111111111111,\"#46039f\"],[0.2222222222222222,\"#7201a8\"],[0.3333333333333333,\"#9c179e\"],[0.4444444444444444,\"#bd3786\"],[0.5555555555555556,\"#d8576b\"],[0.6666666666666666,\"#ed7953\"],[0.7777777777777778,\"#fb9f3a\"],[0.8888888888888888,\"#fdca26\"],[1.0,\"#f0f921\"]]}],\"choropleth\":[{\"type\":\"choropleth\",\"colorbar\":{\"outlinewidth\":0,\"ticks\":\"\"}}],\"histogram2d\":[{\"type\":\"histogram2d\",\"colorbar\":{\"outlinewidth\":0,\"ticks\":\"\"},\"colorscale\":[[0.0,\"#0d0887\"],[0.1111111111111111,\"#46039f\"],[0.2222222222222222,\"#7201a8\"],[0.3333333333333333,\"#9c179e\"],[0.4444444444444444,\"#bd3786\"],[0.5555555555555556,\"#d8576b\"],[0.6666666666666666,\"#ed7953\"],[0.7777777777777778,\"#fb9f3a\"],[0.8888888888888888,\"#fdca26\"],[1.0,\"#f0f921\"]]}],\"heatmap\":[{\"type\":\"heatmap\",\"colorbar\":{\"outlinewidth\":0,\"ticks\":\"\"},\"colorscale\":[[0.0,\"#0d0887\"],[0.1111111111111111,\"#46039f\"],[0.2222222222222222,\"#7201a8\"],[0.3333333333333333,\"#9c179e\"],[0.4444444444444444,\"#bd3786\"],[0.5555555555555556,\"#d8576b\"],[0.6666666666666666,\"#ed7953\"],[0.7777777777777778,\"#fb9f3a\"],[0.8888888888888888,\"#fdca26\"],[1.0,\"#f0f921\"]]}],\"heatmapgl\":[{\"type\":\"heatmapgl\",\"colorbar\":{\"outlinewidth\":0,\"ticks\":\"\"},\"colorscale\":[[0.0,\"#0d0887\"],[0.1111111111111111,\"#46039f\"],[0.2222222222222222,\"#7201a8\"],[0.3333333333333333,\"#9c179e\"],[0.4444444444444444,\"#bd3786\"],[0.5555555555555556,\"#d8576b\"],[0.6666666666666666,\"#ed7953\"],[0.7777777777777778,\"#fb9f3a\"],[0.8888888888888888,\"#fdca26\"],[1.0,\"#f0f921\"]]}],\"contourcarpet\":[{\"type\":\"contourcarpet\",\"colorbar\":{\"outlinewidth\":0,\"ticks\":\"\"}}],\"contour\":[{\"type\":\"contour\",\"colorbar\":{\"outlinewidth\":0,\"ticks\":\"\"},\"colorscale\":[[0.0,\"#0d0887\"],[0.1111111111111111,\"#46039f\"],[0.2222222222222222,\"#7201a8\"],[0.3333333333333333,\"#9c179e\"],[0.4444444444444444,\"#bd3786\"],[0.5555555555555556,\"#d8576b\"],[0.6666666666666666,\"#ed7953\"],[0.7777777777777778,\"#fb9f3a\"],[0.8888888888888888,\"#fdca26\"],[1.0,\"#f0f921\"]]}],\"surface\":[{\"type\":\"surface\",\"colorbar\":{\"outlinewidth\":0,\"ticks\":\"\"},\"colorscale\":[[0.0,\"#0d0887\"],[0.1111111111111111,\"#46039f\"],[0.2222222222222222,\"#7201a8\"],[0.3333333333333333,\"#9c179e\"],[0.4444444444444444,\"#bd3786\"],[0.5555555555555556,\"#d8576b\"],[0.6666666666666666,\"#ed7953\"],[0.7777777777777778,\"#fb9f3a\"],[0.8888888888888888,\"#fdca26\"],[1.0,\"#f0f921\"]]}],\"mesh3d\":[{\"type\":\"mesh3d\",\"colorbar\":{\"outlinewidth\":0,\"ticks\":\"\"}}],\"scatter\":[{\"fillpattern\":{\"fillmode\":\"overlay\",\"size\":10,\"solidity\":0.2},\"type\":\"scatter\"}],\"parcoords\":[{\"type\":\"parcoords\",\"line\":{\"colorbar\":{\"outlinewidth\":0,\"ticks\":\"\"}}}],\"scatterpolargl\":[{\"type\":\"scatterpolargl\",\"marker\":{\"colorbar\":{\"outlinewidth\":0,\"ticks\":\"\"}}}],\"bar\":[{\"error_x\":{\"color\":\"#2a3f5f\"},\"error_y\":{\"color\":\"#2a3f5f\"},\"marker\":{\"line\":{\"color\":\"#E5ECF6\",\"width\":0.5},\"pattern\":{\"fillmode\":\"overlay\",\"size\":10,\"solidity\":0.2}},\"type\":\"bar\"}],\"scattergeo\":[{\"type\":\"scattergeo\",\"marker\":{\"colorbar\":{\"outlinewidth\":0,\"ticks\":\"\"}}}],\"scatterpolar\":[{\"type\":\"scatterpolar\",\"marker\":{\"colorbar\":{\"outlinewidth\":0,\"ticks\":\"\"}}}],\"histogram\":[{\"marker\":{\"pattern\":{\"fillmode\":\"overlay\",\"size\":10,\"solidity\":0.2}},\"type\":\"histogram\"}],\"scattergl\":[{\"type\":\"scattergl\",\"marker\":{\"colorbar\":{\"outlinewidth\":0,\"ticks\":\"\"}}}],\"scatter3d\":[{\"type\":\"scatter3d\",\"line\":{\"colorbar\":{\"outlinewidth\":0,\"ticks\":\"\"}},\"marker\":{\"colorbar\":{\"outlinewidth\":0,\"ticks\":\"\"}}}],\"scattermapbox\":[{\"type\":\"scattermapbox\",\"marker\":{\"colorbar\":{\"outlinewidth\":0,\"ticks\":\"\"}}}],\"scatterternary\":[{\"type\":\"scatterternary\",\"marker\":{\"colorbar\":{\"outlinewidth\":0,\"ticks\":\"\"}}}],\"scattercarpet\":[{\"type\":\"scattercarpet\",\"marker\":{\"colorbar\":{\"outlinewidth\":0,\"ticks\":\"\"}}}],\"carpet\":[{\"aaxis\":{\"endlinecolor\":\"#2a3f5f\",\"gridcolor\":\"white\",\"linecolor\":\"white\",\"minorgridcolor\":\"white\",\"startlinecolor\":\"#2a3f5f\"},\"baxis\":{\"endlinecolor\":\"#2a3f5f\",\"gridcolor\":\"white\",\"linecolor\":\"white\",\"minorgridcolor\":\"white\",\"startlinecolor\":\"#2a3f5f\"},\"type\":\"carpet\"}],\"table\":[{\"cells\":{\"fill\":{\"color\":\"#EBF0F8\"},\"line\":{\"color\":\"white\"}},\"header\":{\"fill\":{\"color\":\"#C8D4E3\"},\"line\":{\"color\":\"white\"}},\"type\":\"table\"}],\"barpolar\":[{\"marker\":{\"line\":{\"color\":\"#E5ECF6\",\"width\":0.5},\"pattern\":{\"fillmode\":\"overlay\",\"size\":10,\"solidity\":0.2}},\"type\":\"barpolar\"}],\"pie\":[{\"automargin\":true,\"type\":\"pie\"}]},\"layout\":{\"autotypenumbers\":\"strict\",\"colorway\":[\"#636efa\",\"#EF553B\",\"#00cc96\",\"#ab63fa\",\"#FFA15A\",\"#19d3f3\",\"#FF6692\",\"#B6E880\",\"#FF97FF\",\"#FECB52\"],\"font\":{\"color\":\"#2a3f5f\"},\"hovermode\":\"closest\",\"hoverlabel\":{\"align\":\"left\"},\"paper_bgcolor\":\"white\",\"plot_bgcolor\":\"#E5ECF6\",\"polar\":{\"bgcolor\":\"#E5ECF6\",\"angularaxis\":{\"gridcolor\":\"white\",\"linecolor\":\"white\",\"ticks\":\"\"},\"radialaxis\":{\"gridcolor\":\"white\",\"linecolor\":\"white\",\"ticks\":\"\"}},\"ternary\":{\"bgcolor\":\"#E5ECF6\",\"aaxis\":{\"gridcolor\":\"white\",\"linecolor\":\"white\",\"ticks\":\"\"},\"baxis\":{\"gridcolor\":\"white\",\"linecolor\":\"white\",\"ticks\":\"\"},\"caxis\":{\"gridcolor\":\"white\",\"linecolor\":\"white\",\"ticks\":\"\"}},\"coloraxis\":{\"colorbar\":{\"outlinewidth\":0,\"ticks\":\"\"}},\"colorscale\":{\"sequential\":[[0.0,\"#0d0887\"],[0.1111111111111111,\"#46039f\"],[0.2222222222222222,\"#7201a8\"],[0.3333333333333333,\"#9c179e\"],[0.4444444444444444,\"#bd3786\"],[0.5555555555555556,\"#d8576b\"],[0.6666666666666666,\"#ed7953\"],[0.7777777777777778,\"#fb9f3a\"],[0.8888888888888888,\"#fdca26\"],[1.0,\"#f0f921\"]],\"sequentialminus\":[[0.0,\"#0d0887\"],[0.1111111111111111,\"#46039f\"],[0.2222222222222222,\"#7201a8\"],[0.3333333333333333,\"#9c179e\"],[0.4444444444444444,\"#bd3786\"],[0.5555555555555556,\"#d8576b\"],[0.6666666666666666,\"#ed7953\"],[0.7777777777777778,\"#fb9f3a\"],[0.8888888888888888,\"#fdca26\"],[1.0,\"#f0f921\"]],\"diverging\":[[0,\"#8e0152\"],[0.1,\"#c51b7d\"],[0.2,\"#de77ae\"],[0.3,\"#f1b6da\"],[0.4,\"#fde0ef\"],[0.5,\"#f7f7f7\"],[0.6,\"#e6f5d0\"],[0.7,\"#b8e186\"],[0.8,\"#7fbc41\"],[0.9,\"#4d9221\"],[1,\"#276419\"]]},\"xaxis\":{\"gridcolor\":\"white\",\"linecolor\":\"white\",\"ticks\":\"\",\"title\":{\"standoff\":15},\"zerolinecolor\":\"white\",\"automargin\":true,\"zerolinewidth\":2},\"yaxis\":{\"gridcolor\":\"white\",\"linecolor\":\"white\",\"ticks\":\"\",\"title\":{\"standoff\":15},\"zerolinecolor\":\"white\",\"automargin\":true,\"zerolinewidth\":2},\"scene\":{\"xaxis\":{\"backgroundcolor\":\"#E5ECF6\",\"gridcolor\":\"white\",\"linecolor\":\"white\",\"showbackground\":true,\"ticks\":\"\",\"zerolinecolor\":\"white\",\"gridwidth\":2},\"yaxis\":{\"backgroundcolor\":\"#E5ECF6\",\"gridcolor\":\"white\",\"linecolor\":\"white\",\"showbackground\":true,\"ticks\":\"\",\"zerolinecolor\":\"white\",\"gridwidth\":2},\"zaxis\":{\"backgroundcolor\":\"#E5ECF6\",\"gridcolor\":\"white\",\"linecolor\":\"white\",\"showbackground\":true,\"ticks\":\"\",\"zerolinecolor\":\"white\",\"gridwidth\":2}},\"shapedefaults\":{\"line\":{\"color\":\"#2a3f5f\"}},\"annotationdefaults\":{\"arrowcolor\":\"#2a3f5f\",\"arrowhead\":0,\"arrowwidth\":1},\"geo\":{\"bgcolor\":\"white\",\"landcolor\":\"#E5ECF6\",\"subunitcolor\":\"white\",\"showland\":true,\"showlakes\":true,\"lakecolor\":\"white\"},\"title\":{\"x\":0.05},\"mapbox\":{\"style\":\"light\"}}},\"xaxis\":{\"rangeslider\":{\"visible\":true},\"title\":{\"text\":\"Date\"}},\"yaxis\":{\"title\":{\"text\":\"Price\"},\"range\":[30,50]},\"title\":{\"text\":\"Candlestick Chart\"}},                        {\"responsive\": true}                    ).then(function(){\n",
       "                            \n",
       "var gd = document.getElementById('bca9b206-4826-46af-a4a2-7ec2570de57d');\n",
       "var x = new MutationObserver(function (mutations, observer) {{\n",
       "        var display = window.getComputedStyle(gd).display;\n",
       "        if (!display || display === 'none') {{\n",
       "            console.log([gd, 'removed!']);\n",
       "            Plotly.purge(gd);\n",
       "            observer.disconnect();\n",
       "        }}\n",
       "}});\n",
       "\n",
       "// Listen for the removal of the full notebook cells\n",
       "var notebookContainer = gd.closest('#notebook-container');\n",
       "if (notebookContainer) {{\n",
       "    x.observe(notebookContainer, {childList: true});\n",
       "}}\n",
       "\n",
       "// Listen for the clearing of the current output cell\n",
       "var outputEl = gd.closest('.output');\n",
       "if (outputEl) {{\n",
       "    x.observe(outputEl, {childList: true});\n",
       "}}\n",
       "\n",
       "                        })                };                });            </script>        </div>"
      ]
     },
     "metadata": {},
     "output_type": "display_data"
    }
   ],
   "source": [
    "import plotly.graph_objects as go\n",
    "\n",
    "# Create the candlestick chart\n",
    "fig = go.Figure(data=[go.Candlestick(\n",
    "    x=df.index,\n",
    "    open=df['Open'],\n",
    "    high=df['High'],\n",
    "    low=df['Low'],\n",
    "    close=df['Close'],\n",
    "    name='BTC-USD'\n",
    ")])\n",
    "fig.update_layout(\n",
    "    title=\"Candlestick Chart\",\n",
    "    xaxis_title=\"Date\",\n",
    "    yaxis_title=\"Price\",\n",
    "    xaxis_rangeslider_visible=True,\n",
    "    yaxis=dict(range=[30, 50])  # Explicitly setting y-axis range\n",
    ")\n",
    "\n",
    "# Show the chart\n",
    "fig.show()\n",
    "\n"
   ]
  },
  {
   "cell_type": "code",
   "execution_count": 47,
   "id": "389f9e8c-77ac-45ae-8c3d-10bf0e3c8667",
   "metadata": {},
   "outputs": [
    {
     "name": "stderr",
     "output_type": "stream",
     "text": [
      "[*********************100%***********************]  1 of 1 completed\n"
     ]
    },
    {
     "data": {
      "image/png": "[encoded data removed]",
      "text/plain": [
       "<Figure size 1000x600 with 1 Axes>"
      ]
     },
     "metadata": {},
     "output_type": "display_data"
    }
   ],
   "source": [
    "# Fetching Bitcoin stock data\n",
    "BTC_stock = yf.download(\"BTC-USD\", start='2014-01-01', end='2024-01-01')\n",
    "\n",
    "# Plotting the Close price\n",
    "plt.figure(figsize=(10, 6))\n",
    "plt.plot(BTC_stock.index, BTC_stock['Close'], label='Bitcoin Stock Price', color='green')\n",
    "plt.title('Bitcoin Stock Price (2014-2024)')\n",
    "plt.xlabel('Date')\n",
    "plt.ylabel('Price (USD)')\n",
    "plt.legend()\n",
    "plt.grid(True)\n",
    "plt.show()"
   ]
  },
  {
   "cell_type": "code",
   "execution_count": null,
   "id": "11dfc083-7197-441a-8e4c-8906927ef2d4",
   "metadata": {},
   "outputs": [],
   "source": []
  }
 ],
 "metadata": {
  "kernelspec": {
   "display_name": "Python 3 (ipykernel)",
   "language": "python",
   "name": "python3"
  },
  "language_info": {
   "codemirror_mode": {
    "name": "ipython",
    "version": 3
   },
   "file_extension": ".py",
   "mimetype": "text/x-python",
   "name": "python",
   "nbconvert_exporter": "python",
   "pygments_lexer": "ipython3",
   "version": "3.12.7"
  }
 },
 "nbformat": 4,
 "nbformat_minor": 5
}
